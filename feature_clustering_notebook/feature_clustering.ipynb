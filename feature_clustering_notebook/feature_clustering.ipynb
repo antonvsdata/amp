{
 "cells": [
  {
   "cell_type": "markdown",
   "metadata": {},
   "source": [
    "This notebook showcases the algorithm for clustering molecular features possibly originating from the same metabolite.\n",
    "\n",
    "### Installation\n",
    "\n",
    "First, you need to install the amp package, which contains all the functions we need. The amp package is developed at UEF and contains many useful functions for LC-MS data preprocessing and analysis. Installing amp also installs all the dependencies. Note that an R version 3.5.0 or later is recommended!\n",
    "\n",
    "You can install amp by running the following code. (For some reason, jupyter does not allow me to install packages but throws a weird error. If this happens, open another R console and install the packages from there.)"
   ]
  },
  {
   "cell_type": "code",
   "execution_count": null,
   "metadata": {},
   "outputs": [],
   "source": [
    "# if (!requireNamespace(\"devtools\", quietly = TRUE)) {\n",
    "#  install.packages(\"devtools\")\n",
    "# }\n",
    "# devtools::install_github(\"antonvsdata/amp\")"
   ]
  },
  {
   "cell_type": "markdown",
   "metadata": {},
   "source": [
    "NOTE: If this gives you a weird error, run the following line and try again (ref: https://github.com/r-lib/devtools/issues/1900)"
   ]
  },
  {
   "cell_type": "code",
   "execution_count": null,
   "metadata": {},
   "outputs": [],
   "source": [
    "# devtools::install_github(\"r-lib/remotes\", ref = \"e56a41e1d0cad55cbe7d60b274b99ab7b7a76b5c\")"
   ]
  },
  {
   "cell_type": "markdown",
   "metadata": {},
   "source": [
    "### Loading data\n",
    "\n",
    "First, let's load the required package and functions. "
   ]
  },
  {
   "cell_type": "code",
   "execution_count": 1,
   "metadata": {},
   "outputs": [
    {
     "name": "stderr",
     "output_type": "stream",
     "text": [
      "Loading required package: ggplot2\n",
      "Warning message:\n",
      "\"package 'ggplot2' was built under R version 3.5.2\"Loading required package: magrittr\n",
      "Warning message:\n",
      "\"package 'magrittr' was built under R version 3.5.2\"Loading required package: Biobase\n",
      "Loading required package: BiocGenerics\n",
      "Loading required package: parallel\n",
      "\n",
      "Attaching package: 'BiocGenerics'\n",
      "\n",
      "The following objects are masked from 'package:parallel':\n",
      "\n",
      "    clusterApply, clusterApplyLB, clusterCall, clusterEvalQ,\n",
      "    clusterExport, clusterMap, parApply, parCapply, parLapply,\n",
      "    parLapplyLB, parRapply, parSapply, parSapplyLB\n",
      "\n",
      "The following objects are masked from 'package:stats':\n",
      "\n",
      "    IQR, mad, sd, var, xtabs\n",
      "\n",
      "The following objects are masked from 'package:base':\n",
      "\n",
      "    anyDuplicated, append, as.data.frame, basename, cbind, colMeans,\n",
      "    colnames, colSums, dirname, do.call, duplicated, eval, evalq,\n",
      "    Filter, Find, get, grep, grepl, intersect, is.unsorted, lapply,\n",
      "    lengths, Map, mapply, match, mget, order, paste, pmax, pmax.int,\n",
      "    pmin, pmin.int, Position, rank, rbind, Reduce, rowMeans, rownames,\n",
      "    rowSums, sapply, setdiff, sort, table, tapply, union, unique,\n",
      "    unsplit, which, which.max, which.min\n",
      "\n",
      "Welcome to Bioconductor\n",
      "\n",
      "    Vignettes contain introductory material; view with\n",
      "    'browseVignettes()'. To cite Bioconductor, see\n",
      "    'citation(\"Biobase\")', and for packages 'citation(\"pkgname\")'.\n",
      "\n",
      "Warning message:\n",
      "\"package 'openxlsx' was built under R version 3.5.2\""
     ]
    }
   ],
   "source": [
    "library(amp)\n",
    "library(openxlsx) # For reading Excel spreadsheets"
   ]
  },
  {
   "cell_type": "markdown",
   "metadata": {},
   "source": [
    "Next, we read in the example data from the file HILIC_NEG_TEST.xlsx:"
   ]
  },
  {
   "cell_type": "code",
   "execution_count": 2,
   "metadata": {},
   "outputs": [],
   "source": [
    "data_file <- \"HILIC_NEG_TEST.xlsx\"\n",
    "abundances <- read.xlsx(data_file, sheet = 1)\n",
    "feature_info <- read.xlsx(data_file, sheet = 2)"
   ]
  },
  {
   "cell_type": "markdown",
   "metadata": {},
   "source": [
    "Let's take a peak at the data:"
   ]
  },
  {
   "cell_type": "code",
   "execution_count": 3,
   "metadata": {},
   "outputs": [
    {
     "name": "stdout",
     "output_type": "stream",
     "text": [
      "Abundances: 276 rows and 538 columns"
     ]
    },
    {
     "data": {
      "text/html": [
       "<table>\n",
       "<thead><tr><th scope=col>COMPOUND_174_1115a6_947448</th><th scope=col>COMPOUND_175_0955a6_3451543</th><th scope=col>COMPOUND_527_3258a1_2846748</th><th scope=col>COMPOUND_565_3398a1_2073423</th></tr></thead>\n",
       "<tbody>\n",
       "\t<tr><td>12982 </td><td>    1 </td><td>12556 </td><td>286969</td></tr>\n",
       "\t<tr><td>18192 </td><td>19866 </td><td>24016 </td><td>594251</td></tr>\n",
       "\t<tr><td>14317 </td><td>19033 </td><td>    1 </td><td>197562</td></tr>\n",
       "\t<tr><td>24180 </td><td>30353 </td><td>    1 </td><td>284768</td></tr>\n",
       "\t<tr><td>15218 </td><td>21622 </td><td>    1 </td><td>661544</td></tr>\n",
       "\t<tr><td>15539 </td><td>10267 </td><td>11466 </td><td>238440</td></tr>\n",
       "\t<tr><td>18608 </td><td>18156 </td><td>13102 </td><td>350136</td></tr>\n",
       "\t<tr><td>12379 </td><td>29315 </td><td>    1 </td><td>218183</td></tr>\n",
       "\t<tr><td>14054 </td><td>24522 </td><td>12189 </td><td>378187</td></tr>\n",
       "\t<tr><td>12316 </td><td>15498 </td><td>17065 </td><td>297489</td></tr>\n",
       "</tbody>\n",
       "</table>\n"
      ],
      "text/latex": [
       "\\begin{tabular}{r|llll}\n",
       " COMPOUND\\_174\\_1115a6\\_947448 & COMPOUND\\_175\\_0955a6\\_3451543 & COMPOUND\\_527\\_3258a1\\_2846748 & COMPOUND\\_565\\_3398a1\\_2073423\\\\\n",
       "\\hline\n",
       "\t 12982  &     1  & 12556  & 286969\\\\\n",
       "\t 18192  & 19866  & 24016  & 594251\\\\\n",
       "\t 14317  & 19033  &     1  & 197562\\\\\n",
       "\t 24180  & 30353  &     1  & 284768\\\\\n",
       "\t 15218  & 21622  &     1  & 661544\\\\\n",
       "\t 15539  & 10267  & 11466  & 238440\\\\\n",
       "\t 18608  & 18156  & 13102  & 350136\\\\\n",
       "\t 12379  & 29315  &     1  & 218183\\\\\n",
       "\t 14054  & 24522  & 12189  & 378187\\\\\n",
       "\t 12316  & 15498  & 17065  & 297489\\\\\n",
       "\\end{tabular}\n"
      ],
      "text/markdown": [
       "\n",
       "COMPOUND_174_1115a6_947448 | COMPOUND_175_0955a6_3451543 | COMPOUND_527_3258a1_2846748 | COMPOUND_565_3398a1_2073423 | \n",
       "|---|---|---|---|---|---|---|---|---|---|\n",
       "| 12982  |     1  | 12556  | 286969 | \n",
       "| 18192  | 19866  | 24016  | 594251 | \n",
       "| 14317  | 19033  |     1  | 197562 | \n",
       "| 24180  | 30353  |     1  | 284768 | \n",
       "| 15218  | 21622  |     1  | 661544 | \n",
       "| 15539  | 10267  | 11466  | 238440 | \n",
       "| 18608  | 18156  | 13102  | 350136 | \n",
       "| 12379  | 29315  |     1  | 218183 | \n",
       "| 14054  | 24522  | 12189  | 378187 | \n",
       "| 12316  | 15498  | 17065  | 297489 | \n",
       "\n",
       "\n"
      ],
      "text/plain": [
       "   COMPOUND_174_1115a6_947448 COMPOUND_175_0955a6_3451543\n",
       "1  12982                          1                      \n",
       "2  18192                      19866                      \n",
       "3  14317                      19033                      \n",
       "4  24180                      30353                      \n",
       "5  15218                      21622                      \n",
       "6  15539                      10267                      \n",
       "7  18608                      18156                      \n",
       "8  12379                      29315                      \n",
       "9  14054                      24522                      \n",
       "10 12316                      15498                      \n",
       "   COMPOUND_527_3258a1_2846748 COMPOUND_565_3398a1_2073423\n",
       "1  12556                       286969                     \n",
       "2  24016                       594251                     \n",
       "3      1                       197562                     \n",
       "4      1                       284768                     \n",
       "5      1                       661544                     \n",
       "6  11466                       238440                     \n",
       "7  13102                       350136                     \n",
       "8      1                       218183                     \n",
       "9  12189                       378187                     \n",
       "10 17065                       297489                     "
      ]
     },
     "metadata": {},
     "output_type": "display_data"
    },
    {
     "name": "stdout",
     "output_type": "stream",
     "text": [
      "Feature info: 538 rows and 9 columns"
     ]
    },
    {
     "data": {
      "text/html": [
       "<table>\n",
       "<thead><tr><th scope=col>Name</th><th scope=col>column</th><th scope=col>mode</th><th scope=col>mz</th><th scope=col>mzmin</th><th scope=col>mzmax</th><th scope=col>rt</th><th scope=col>rtmin</th><th scope=col>rtmax</th></tr></thead>\n",
       "<tbody>\n",
       "\t<tr><td>COMPOUND_174_1115a6_947448  </td><td>hilic                       </td><td>neg                         </td><td>174.1115                    </td><td>174.1115                    </td><td>174.1115                    </td><td>6.9474480                   </td><td>6.9474480                   </td><td>6.9474480                   </td></tr>\n",
       "\t<tr><td>COMPOUND_175_0955a6_3451543 </td><td>hilic                       </td><td>neg                         </td><td>175.0955                    </td><td>175.0955                    </td><td>175.0955                    </td><td>6.3451543                   </td><td>6.3451543                   </td><td>6.3451543                   </td></tr>\n",
       "\t<tr><td>COMPOUND_527_3258a1_2846748 </td><td>hilic                       </td><td>neg                         </td><td>527.3258                    </td><td>527.3258                    </td><td>527.3258                    </td><td>1.2846748                   </td><td>1.2846748                   </td><td>1.2846748                   </td></tr>\n",
       "\t<tr><td>COMPOUND_565_3398a1_2073423 </td><td>hilic                       </td><td>neg                         </td><td>565.3398                    </td><td>565.3398                    </td><td>565.3398                    </td><td>1.2073423                   </td><td>1.2073423                   </td><td>1.2073423                   </td></tr>\n",
       "\t<tr><td>COMPOUND_555_3106a1_0777795 </td><td>hilic                       </td><td>neg                         </td><td>555.3106                    </td><td>555.3106                    </td><td>555.3106                    </td><td>1.0777795                   </td><td>1.0777795                   </td><td>1.0777795                   </td></tr>\n",
       "\t<tr><td>COMPOUND_179_0585a0_980333  </td><td>hilic                       </td><td>neg                         </td><td>179.0585                    </td><td>179.0585                    </td><td>179.0585                    </td><td>0.9803330                   </td><td>0.9803330                   </td><td>0.9803330                   </td></tr>\n",
       "\t<tr><td>COMPOUND_565_3384a1_0822716 </td><td>hilic                       </td><td>neg                         </td><td>565.3384                    </td><td>565.3384                    </td><td>565.3384                    </td><td>1.0822716                   </td><td>1.0822716                   </td><td>1.0822716                   </td></tr>\n",
       "\t<tr><td>COMPOUND_90_032a1_3770405   </td><td>hilic                       </td><td>neg                         </td><td> 90.0320                    </td><td> 90.0320                    </td><td> 90.0320                    </td><td>1.3770405                   </td><td>1.3770405                   </td><td>1.3770405                   </td></tr>\n",
       "\t<tr><td>COMPOUND_118_0628a0_7650406 </td><td>hilic                       </td><td>neg                         </td><td>118.0628                    </td><td>118.0628                    </td><td>118.0628                    </td><td>0.7650406                   </td><td>0.7650406                   </td><td>0.7650406                   </td></tr>\n",
       "\t<tr><td>COMPOUND_558_4648a0_42406148</td><td>hilic                       </td><td>neg                         </td><td>558.4648                    </td><td>558.4648                    </td><td>558.4648                    </td><td>0.4240615                   </td><td>0.4240615                   </td><td>0.4240615                   </td></tr>\n",
       "</tbody>\n",
       "</table>\n"
      ],
      "text/latex": [
       "\\begin{tabular}{r|lllllllll}\n",
       " Name & column & mode & mz & mzmin & mzmax & rt & rtmin & rtmax\\\\\n",
       "\\hline\n",
       "\t COMPOUND\\_174\\_1115a6\\_947448   & hilic                              & neg                                & 174.1115                           & 174.1115                           & 174.1115                           & 6.9474480                          & 6.9474480                          & 6.9474480                         \\\\\n",
       "\t COMPOUND\\_175\\_0955a6\\_3451543  & hilic                              & neg                                & 175.0955                           & 175.0955                           & 175.0955                           & 6.3451543                          & 6.3451543                          & 6.3451543                         \\\\\n",
       "\t COMPOUND\\_527\\_3258a1\\_2846748  & hilic                              & neg                                & 527.3258                           & 527.3258                           & 527.3258                           & 1.2846748                          & 1.2846748                          & 1.2846748                         \\\\\n",
       "\t COMPOUND\\_565\\_3398a1\\_2073423  & hilic                              & neg                                & 565.3398                           & 565.3398                           & 565.3398                           & 1.2073423                          & 1.2073423                          & 1.2073423                         \\\\\n",
       "\t COMPOUND\\_555\\_3106a1\\_0777795  & hilic                              & neg                                & 555.3106                           & 555.3106                           & 555.3106                           & 1.0777795                          & 1.0777795                          & 1.0777795                         \\\\\n",
       "\t COMPOUND\\_179\\_0585a0\\_980333   & hilic                              & neg                                & 179.0585                           & 179.0585                           & 179.0585                           & 0.9803330                          & 0.9803330                          & 0.9803330                         \\\\\n",
       "\t COMPOUND\\_565\\_3384a1\\_0822716  & hilic                              & neg                                & 565.3384                           & 565.3384                           & 565.3384                           & 1.0822716                          & 1.0822716                          & 1.0822716                         \\\\\n",
       "\t COMPOUND\\_90\\_032a1\\_3770405    & hilic                              & neg                                &  90.0320                           &  90.0320                           &  90.0320                           & 1.3770405                          & 1.3770405                          & 1.3770405                         \\\\\n",
       "\t COMPOUND\\_118\\_0628a0\\_7650406  & hilic                              & neg                                & 118.0628                           & 118.0628                           & 118.0628                           & 0.7650406                          & 0.7650406                          & 0.7650406                         \\\\\n",
       "\t COMPOUND\\_558\\_4648a0\\_42406148 & hilic                              & neg                                & 558.4648                           & 558.4648                           & 558.4648                           & 0.4240615                          & 0.4240615                          & 0.4240615                         \\\\\n",
       "\\end{tabular}\n"
      ],
      "text/markdown": [
       "\n",
       "Name | column | mode | mz | mzmin | mzmax | rt | rtmin | rtmax | \n",
       "|---|---|---|---|---|---|---|---|---|---|\n",
       "| COMPOUND_174_1115a6_947448   | hilic                        | neg                          | 174.1115                     | 174.1115                     | 174.1115                     | 6.9474480                    | 6.9474480                    | 6.9474480                    | \n",
       "| COMPOUND_175_0955a6_3451543  | hilic                        | neg                          | 175.0955                     | 175.0955                     | 175.0955                     | 6.3451543                    | 6.3451543                    | 6.3451543                    | \n",
       "| COMPOUND_527_3258a1_2846748  | hilic                        | neg                          | 527.3258                     | 527.3258                     | 527.3258                     | 1.2846748                    | 1.2846748                    | 1.2846748                    | \n",
       "| COMPOUND_565_3398a1_2073423  | hilic                        | neg                          | 565.3398                     | 565.3398                     | 565.3398                     | 1.2073423                    | 1.2073423                    | 1.2073423                    | \n",
       "| COMPOUND_555_3106a1_0777795  | hilic                        | neg                          | 555.3106                     | 555.3106                     | 555.3106                     | 1.0777795                    | 1.0777795                    | 1.0777795                    | \n",
       "| COMPOUND_179_0585a0_980333   | hilic                        | neg                          | 179.0585                     | 179.0585                     | 179.0585                     | 0.9803330                    | 0.9803330                    | 0.9803330                    | \n",
       "| COMPOUND_565_3384a1_0822716  | hilic                        | neg                          | 565.3384                     | 565.3384                     | 565.3384                     | 1.0822716                    | 1.0822716                    | 1.0822716                    | \n",
       "| COMPOUND_90_032a1_3770405    | hilic                        | neg                          |  90.0320                     |  90.0320                     |  90.0320                     | 1.3770405                    | 1.3770405                    | 1.3770405                    | \n",
       "| COMPOUND_118_0628a0_7650406  | hilic                        | neg                          | 118.0628                     | 118.0628                     | 118.0628                     | 0.7650406                    | 0.7650406                    | 0.7650406                    | \n",
       "| COMPOUND_558_4648a0_42406148 | hilic                        | neg                          | 558.4648                     | 558.4648                     | 558.4648                     | 0.4240615                    | 0.4240615                    | 0.4240615                    | \n",
       "\n",
       "\n"
      ],
      "text/plain": [
       "   Name                         column mode mz       mzmin    mzmax   \n",
       "1  COMPOUND_174_1115a6_947448   hilic  neg  174.1115 174.1115 174.1115\n",
       "2  COMPOUND_175_0955a6_3451543  hilic  neg  175.0955 175.0955 175.0955\n",
       "3  COMPOUND_527_3258a1_2846748  hilic  neg  527.3258 527.3258 527.3258\n",
       "4  COMPOUND_565_3398a1_2073423  hilic  neg  565.3398 565.3398 565.3398\n",
       "5  COMPOUND_555_3106a1_0777795  hilic  neg  555.3106 555.3106 555.3106\n",
       "6  COMPOUND_179_0585a0_980333   hilic  neg  179.0585 179.0585 179.0585\n",
       "7  COMPOUND_565_3384a1_0822716  hilic  neg  565.3384 565.3384 565.3384\n",
       "8  COMPOUND_90_032a1_3770405    hilic  neg   90.0320  90.0320  90.0320\n",
       "9  COMPOUND_118_0628a0_7650406  hilic  neg  118.0628 118.0628 118.0628\n",
       "10 COMPOUND_558_4648a0_42406148 hilic  neg  558.4648 558.4648 558.4648\n",
       "   rt        rtmin     rtmax    \n",
       "1  6.9474480 6.9474480 6.9474480\n",
       "2  6.3451543 6.3451543 6.3451543\n",
       "3  1.2846748 1.2846748 1.2846748\n",
       "4  1.2073423 1.2073423 1.2073423\n",
       "5  1.0777795 1.0777795 1.0777795\n",
       "6  0.9803330 0.9803330 0.9803330\n",
       "7  1.0822716 1.0822716 1.0822716\n",
       "8  1.3770405 1.3770405 1.3770405\n",
       "9  0.7650406 0.7650406 0.7650406\n",
       "10 0.4240615 0.4240615 0.4240615"
      ]
     },
     "metadata": {},
     "output_type": "display_data"
    }
   ],
   "source": [
    "# Dimensions\n",
    "cat(paste(\"Abundances:\", nrow(abundances), \"rows and\", ncol(abundances), \"columns\"))\n",
    "abundances[1:10, 1:4]\n",
    "\n",
    "cat(paste(\"Feature info:\", nrow(feature_info), \"rows and\", ncol(feature_info), \"columns\"))\n",
    "feature_info[1:10, ]"
   ]
  },
  {
   "cell_type": "markdown",
   "metadata": {},
   "source": [
    "### Finding connections\n",
    "\n",
    "The first step of the algorithm is to find all the connections between features. This means the features that have a large Pearson correlation coefficient and a small retention time difference. Here we use a limit of 0.9 for the correlation coefficient and a 1 second retention time window (the retention times in our data are recorded as minutes).\n",
    "\n",
    "Note that you can get more information about these functions by running ?function_name"
   ]
  },
  {
   "cell_type": "code",
   "execution_count": 4,
   "metadata": {},
   "outputs": [],
   "source": [
    "# Uncomment below to view help file\n",
    "# ?find_connections"
   ]
  },
  {
   "cell_type": "markdown",
   "metadata": {},
   "source": [
    "Running the function will result in a warning telling we have \"no parallel backend registered\". This warning can be ignored, but with larger datasets it is possible to parallelize the computation by running:\n",
    "\n",
    "```\n",
    "library(doParallel)\n",
    "registerDoParallel() # Specify number of cores\n",
    "```"
   ]
  },
  {
   "cell_type": "code",
   "execution_count": 5,
   "metadata": {},
   "outputs": [
    {
     "name": "stderr",
     "output_type": "stream",
     "text": [
      "Warning message:\n",
      "\"executing %dopar% sequentially: no parallel backend registered\""
     ]
    },
    {
     "name": "stdout",
     "output_type": "stream",
     "text": [
      "[1] 100\n",
      "[1] 200\n",
      "[1] 300\n",
      "[1] 400\n",
      "[1] 500\n"
     ]
    }
   ],
   "source": [
    "conn <- find_connections(data = abundances, features = feature_info, corr_thresh = 0.9, rt_window = 1/60,\n",
    "                        name_col = \"Name\", mz_col = \"mz\", rt_col = \"rt\")"
   ]
  },
  {
   "cell_type": "markdown",
   "metadata": {},
   "source": [
    "Let's look at what we got:"
   ]
  },
  {
   "cell_type": "code",
   "execution_count": 6,
   "metadata": {},
   "outputs": [
    {
     "data": {
      "text/html": [
       "<ol class=list-inline>\n",
       "\t<li>1274</li>\n",
       "\t<li>5</li>\n",
       "</ol>\n"
      ],
      "text/latex": [
       "\\begin{enumerate*}\n",
       "\\item 1274\n",
       "\\item 5\n",
       "\\end{enumerate*}\n"
      ],
      "text/markdown": [
       "1. 1274\n",
       "2. 5\n",
       "\n",
       "\n"
      ],
      "text/plain": [
       "[1] 1274    5"
      ]
     },
     "metadata": {},
     "output_type": "display_data"
    },
    {
     "data": {
      "text/html": [
       "<table>\n",
       "<thead><tr><th scope=col>x</th><th scope=col>y</th><th scope=col>cor</th><th scope=col>rt_diff</th><th scope=col>mz_diff</th></tr></thead>\n",
       "<tbody>\n",
       "\t<tr><td>COMPOUND_179_0585a0_980333  </td><td>COMPOUND_135_0685a0_97990537</td><td>0.9462173                   </td><td>-0.00042763                 </td><td> -43.9900                   </td></tr>\n",
       "\t<tr><td>COMPOUND_179_0585a0_980333  </td><td>COMPOUND_215_0349a0_9814668 </td><td>0.9530531                   </td><td> 0.00113380                 </td><td>  35.9764                   </td></tr>\n",
       "\t<tr><td>COMPOUND_558_4648a0_42406148</td><td>COMPOUND_556_4505a0_42484784</td><td>0.9859041                   </td><td> 0.00078636                 </td><td>  -2.0143                   </td></tr>\n",
       "\t<tr><td>COMPOUND_558_4648a0_42406148</td><td>COMPOUND_530_434a0_42711142 </td><td>0.9263948                   </td><td> 0.00304994                 </td><td> -28.0308                   </td></tr>\n",
       "\t<tr><td>COMPOUND_558_4648a0_42406148</td><td>COMPOUND_278_2246a0_42523193</td><td>0.9853918                   </td><td> 0.00117045                 </td><td>-280.2402                   </td></tr>\n",
       "\t<tr><td>COMPOUND_558_4648a0_42406148</td><td>COMPOUND_280_2401a0_4265691 </td><td>0.9075599                   </td><td> 0.00250762                 </td><td>-278.2247                   </td></tr>\n",
       "</tbody>\n",
       "</table>\n"
      ],
      "text/latex": [
       "\\begin{tabular}{r|lllll}\n",
       " x & y & cor & rt\\_diff & mz\\_diff\\\\\n",
       "\\hline\n",
       "\t COMPOUND\\_179\\_0585a0\\_980333   & COMPOUND\\_135\\_0685a0\\_97990537 & 0.9462173                          & -0.00042763                        &  -43.9900                         \\\\\n",
       "\t COMPOUND\\_179\\_0585a0\\_980333   & COMPOUND\\_215\\_0349a0\\_9814668  & 0.9530531                          &  0.00113380                        &   35.9764                         \\\\\n",
       "\t COMPOUND\\_558\\_4648a0\\_42406148 & COMPOUND\\_556\\_4505a0\\_42484784 & 0.9859041                          &  0.00078636                        &   -2.0143                         \\\\\n",
       "\t COMPOUND\\_558\\_4648a0\\_42406148 & COMPOUND\\_530\\_434a0\\_42711142  & 0.9263948                          &  0.00304994                        &  -28.0308                         \\\\\n",
       "\t COMPOUND\\_558\\_4648a0\\_42406148 & COMPOUND\\_278\\_2246a0\\_42523193 & 0.9853918                          &  0.00117045                        & -280.2402                         \\\\\n",
       "\t COMPOUND\\_558\\_4648a0\\_42406148 & COMPOUND\\_280\\_2401a0\\_4265691  & 0.9075599                          &  0.00250762                        & -278.2247                         \\\\\n",
       "\\end{tabular}\n"
      ],
      "text/markdown": [
       "\n",
       "x | y | cor | rt_diff | mz_diff | \n",
       "|---|---|---|---|---|---|\n",
       "| COMPOUND_179_0585a0_980333   | COMPOUND_135_0685a0_97990537 | 0.9462173                    | -0.00042763                  |  -43.9900                    | \n",
       "| COMPOUND_179_0585a0_980333   | COMPOUND_215_0349a0_9814668  | 0.9530531                    |  0.00113380                  |   35.9764                    | \n",
       "| COMPOUND_558_4648a0_42406148 | COMPOUND_556_4505a0_42484784 | 0.9859041                    |  0.00078636                  |   -2.0143                    | \n",
       "| COMPOUND_558_4648a0_42406148 | COMPOUND_530_434a0_42711142  | 0.9263948                    |  0.00304994                  |  -28.0308                    | \n",
       "| COMPOUND_558_4648a0_42406148 | COMPOUND_278_2246a0_42523193 | 0.9853918                    |  0.00117045                  | -280.2402                    | \n",
       "| COMPOUND_558_4648a0_42406148 | COMPOUND_280_2401a0_4265691  | 0.9075599                    |  0.00250762                  | -278.2247                    | \n",
       "\n",
       "\n"
      ],
      "text/plain": [
       "  x                            y                            cor      \n",
       "1 COMPOUND_179_0585a0_980333   COMPOUND_135_0685a0_97990537 0.9462173\n",
       "2 COMPOUND_179_0585a0_980333   COMPOUND_215_0349a0_9814668  0.9530531\n",
       "3 COMPOUND_558_4648a0_42406148 COMPOUND_556_4505a0_42484784 0.9859041\n",
       "4 COMPOUND_558_4648a0_42406148 COMPOUND_530_434a0_42711142  0.9263948\n",
       "5 COMPOUND_558_4648a0_42406148 COMPOUND_278_2246a0_42523193 0.9853918\n",
       "6 COMPOUND_558_4648a0_42406148 COMPOUND_280_2401a0_4265691  0.9075599\n",
       "  rt_diff     mz_diff  \n",
       "1 -0.00042763  -43.9900\n",
       "2  0.00113380   35.9764\n",
       "3  0.00078636   -2.0143\n",
       "4  0.00304994  -28.0308\n",
       "5  0.00117045 -280.2402\n",
       "6  0.00250762 -278.2247"
      ]
     },
     "metadata": {},
     "output_type": "display_data"
    }
   ],
   "source": [
    "dim(conn)\n",
    "head(conn)"
   ]
  },
  {
   "cell_type": "markdown",
   "metadata": {},
   "source": [
    "### Finding dense clusters\n",
    "\n",
    "So we have 1274 connections between the features. The next step is to construct an undirected graph, split it into connected components and start trimming those components until we only have densely clustered groups of features left. This is achived by setting a threshold for the relative degree. Here we use a threshold of 0.8, meaning that each feature has to be linked to at least  80% of other features in a cluster. Until this condition is satisfied, the feature with the least amount of connections is dropped (the sum of the correlation coefficients is used as a tie-breaker).\n",
    "\n",
    "After each iteration, the function reports the number of components left."
   ]
  },
  {
   "cell_type": "code",
   "execution_count": 7,
   "metadata": {},
   "outputs": [
    {
     "name": "stdout",
     "output_type": "stream",
     "text": [
      "28 components found\n",
      "\n",
      "14 components found\n",
      "\n",
      "9 components found\n",
      "\n",
      "1 components found\n",
      "\n"
     ]
    }
   ],
   "source": [
    "clusters <- find_clusters(connections = conn, d_thresh = 0.8)"
   ]
  },
  {
   "cell_type": "markdown",
   "metadata": {},
   "source": [
    "This returns a list of clusters, each element is its own list with a vector of feature names and a graph object.\n",
    "\n",
    "Let's take a look at the number of features in each cluster:"
   ]
  },
  {
   "cell_type": "code",
   "execution_count": 8,
   "metadata": {},
   "outputs": [
    {
     "data": {
      "text/html": [
       "<ol class=list-inline>\n",
       "\t<li>37</li>\n",
       "\t<li>15</li>\n",
       "\t<li>10</li>\n",
       "\t<li>6</li>\n",
       "\t<li>5</li>\n",
       "\t<li>5</li>\n",
       "\t<li>4</li>\n",
       "\t<li>3</li>\n",
       "\t<li>3</li>\n",
       "\t<li>3</li>\n",
       "\t<li>3</li>\n",
       "\t<li>3</li>\n",
       "\t<li>3</li>\n",
       "\t<li>3</li>\n",
       "\t<li>2</li>\n",
       "\t<li>2</li>\n",
       "\t<li>2</li>\n",
       "\t<li>2</li>\n",
       "\t<li>2</li>\n",
       "\t<li>2</li>\n",
       "\t<li>2</li>\n",
       "\t<li>2</li>\n",
       "\t<li>2</li>\n",
       "\t<li>2</li>\n",
       "\t<li>2</li>\n",
       "\t<li>2</li>\n",
       "\t<li>2</li>\n",
       "\t<li>2</li>\n",
       "\t<li>2</li>\n",
       "\t<li>2</li>\n",
       "\t<li>2</li>\n",
       "\t<li>2</li>\n",
       "\t<li>2</li>\n",
       "\t<li>1</li>\n",
       "\t<li>1</li>\n",
       "\t<li>1</li>\n",
       "\t<li>1</li>\n",
       "\t<li>1</li>\n",
       "\t<li>1</li>\n",
       "\t<li>1</li>\n",
       "\t<li>1</li>\n",
       "\t<li>1</li>\n",
       "\t<li>1</li>\n",
       "\t<li>1</li>\n",
       "\t<li>1</li>\n",
       "\t<li>1</li>\n",
       "\t<li>1</li>\n",
       "\t<li>1</li>\n",
       "\t<li>1</li>\n",
       "\t<li>1</li>\n",
       "\t<li>1</li>\n",
       "\t<li>1</li>\n",
       "</ol>\n"
      ],
      "text/latex": [
       "\\begin{enumerate*}\n",
       "\\item 37\n",
       "\\item 15\n",
       "\\item 10\n",
       "\\item 6\n",
       "\\item 5\n",
       "\\item 5\n",
       "\\item 4\n",
       "\\item 3\n",
       "\\item 3\n",
       "\\item 3\n",
       "\\item 3\n",
       "\\item 3\n",
       "\\item 3\n",
       "\\item 3\n",
       "\\item 2\n",
       "\\item 2\n",
       "\\item 2\n",
       "\\item 2\n",
       "\\item 2\n",
       "\\item 2\n",
       "\\item 2\n",
       "\\item 2\n",
       "\\item 2\n",
       "\\item 2\n",
       "\\item 2\n",
       "\\item 2\n",
       "\\item 2\n",
       "\\item 2\n",
       "\\item 2\n",
       "\\item 2\n",
       "\\item 2\n",
       "\\item 2\n",
       "\\item 2\n",
       "\\item 1\n",
       "\\item 1\n",
       "\\item 1\n",
       "\\item 1\n",
       "\\item 1\n",
       "\\item 1\n",
       "\\item 1\n",
       "\\item 1\n",
       "\\item 1\n",
       "\\item 1\n",
       "\\item 1\n",
       "\\item 1\n",
       "\\item 1\n",
       "\\item 1\n",
       "\\item 1\n",
       "\\item 1\n",
       "\\item 1\n",
       "\\item 1\n",
       "\\item 1\n",
       "\\end{enumerate*}\n"
      ],
      "text/markdown": [
       "1. 37\n",
       "2. 15\n",
       "3. 10\n",
       "4. 6\n",
       "5. 5\n",
       "6. 5\n",
       "7. 4\n",
       "8. 3\n",
       "9. 3\n",
       "10. 3\n",
       "11. 3\n",
       "12. 3\n",
       "13. 3\n",
       "14. 3\n",
       "15. 2\n",
       "16. 2\n",
       "17. 2\n",
       "18. 2\n",
       "19. 2\n",
       "20. 2\n",
       "21. 2\n",
       "22. 2\n",
       "23. 2\n",
       "24. 2\n",
       "25. 2\n",
       "26. 2\n",
       "27. 2\n",
       "28. 2\n",
       "29. 2\n",
       "30. 2\n",
       "31. 2\n",
       "32. 2\n",
       "33. 2\n",
       "34. 1\n",
       "35. 1\n",
       "36. 1\n",
       "37. 1\n",
       "38. 1\n",
       "39. 1\n",
       "40. 1\n",
       "41. 1\n",
       "42. 1\n",
       "43. 1\n",
       "44. 1\n",
       "45. 1\n",
       "46. 1\n",
       "47. 1\n",
       "48. 1\n",
       "49. 1\n",
       "50. 1\n",
       "51. 1\n",
       "52. 1\n",
       "\n",
       "\n"
      ],
      "text/plain": [
       " [1] 37 15 10  6  5  5  4  3  3  3  3  3  3  3  2  2  2  2  2  2  2  2  2  2  2\n",
       "[26]  2  2  2  2  2  2  2  2  1  1  1  1  1  1  1  1  1  1  1  1  1  1  1  1  1\n",
       "[51]  1  1"
      ]
     },
     "metadata": {},
     "output_type": "display_data"
    }
   ],
   "source": [
    "sort(sapply(clusters, function(x) {length(x$features)}), decreasing = TRUE)"
   ]
  },
  {
   "cell_type": "markdown",
   "metadata": {},
   "source": [
    "As we can see, most of the clusters have a reasonable number of features, but some clusters tend to group together a large number of features. In this case, no data cleaning was applied, but this seems to happen on cleaned data as well when the number of features is large enough.\n",
    "\n",
    "### Processing clusters\n",
    "\n",
    "After we have our dense clusters, we can assign a cluster ID to all features. This cluster ID can then be used in the metabolite identification phase, to help the researcher to find features that might represent the same metabolite.\n",
    "\n",
    "The cluster ID is the name of the feature with the largest median peak area (MPA). If a column named 'MPA' is not present in the feature information table, it is computed and added. For each cluster, the features in that cluster are listed."
   ]
  },
  {
   "cell_type": "code",
   "execution_count": 9,
   "metadata": {},
   "outputs": [
    {
     "data": {
      "text/html": [
       "<table>\n",
       "<thead><tr><th scope=col>Name</th><th scope=col>column</th><th scope=col>mode</th><th scope=col>mz</th><th scope=col>mzmin</th><th scope=col>mzmax</th><th scope=col>rt</th><th scope=col>rtmin</th><th scope=col>rtmax</th><th scope=col>MPA</th><th scope=col>Cluster_ID</th><th scope=col>Cluster_features</th><th scope=col>Cluster_size</th></tr></thead>\n",
       "<tbody>\n",
       "\t<tr><td>COMPOUND_174_1115a6_947448                                                                                                                    </td><td>hilic                                                                                                                                         </td><td>neg                                                                                                                                           </td><td>174.1115                                                                                                                                      </td><td>174.1115                                                                                                                                      </td><td>174.1115                                                                                                                                      </td><td>6.9474480                                                                                                                                     </td><td>6.9474480                                                                                                                                     </td><td>6.9474480                                                                                                                                     </td><td> 15587.0                                                                                                                                      </td><td>COMPOUND_174_1115a6_947448                                                                                                                    </td><td>COMPOUND_174_1115a6_947448                                                                                                                    </td><td>1                                                                                                                                             </td></tr>\n",
       "\t<tr><td>COMPOUND_175_0955a6_3451543                                                                                                                   </td><td>hilic                                                                                                                                         </td><td>neg                                                                                                                                           </td><td>175.0955                                                                                                                                      </td><td>175.0955                                                                                                                                      </td><td>175.0955                                                                                                                                      </td><td>6.3451543                                                                                                                                     </td><td>6.3451543                                                                                                                                     </td><td>6.3451543                                                                                                                                     </td><td> 18601.5                                                                                                                                      </td><td>COMPOUND_175_0955a6_3451543                                                                                                                   </td><td>COMPOUND_175_0955a6_3451543                                                                                                                   </td><td>1                                                                                                                                             </td></tr>\n",
       "\t<tr><td>COMPOUND_527_3258a1_2846748                                                                                                                   </td><td>hilic                                                                                                                                         </td><td>neg                                                                                                                                           </td><td>527.3258                                                                                                                                      </td><td>527.3258                                                                                                                                      </td><td>527.3258                                                                                                                                      </td><td>1.2846748                                                                                                                                     </td><td>1.2846748                                                                                                                                     </td><td>1.2846748                                                                                                                                     </td><td>     1.0                                                                                                                                      </td><td>COMPOUND_527_3258a1_2846748                                                                                                                   </td><td>COMPOUND_527_3258a1_2846748                                                                                                                   </td><td>1                                                                                                                                             </td></tr>\n",
       "\t<tr><td>COMPOUND_565_3398a1_2073423                                                                                                                   </td><td>hilic                                                                                                                                         </td><td>neg                                                                                                                                           </td><td>565.3398                                                                                                                                      </td><td>565.3398                                                                                                                                      </td><td>565.3398                                                                                                                                      </td><td>1.2073423                                                                                                                                     </td><td>1.2073423                                                                                                                                     </td><td>1.2073423                                                                                                                                     </td><td>307065.0                                                                                                                                      </td><td>COMPOUND_565_3398a1_2073423                                                                                                                   </td><td>COMPOUND_565_3398a1_2073423                                                                                                                   </td><td>1                                                                                                                                             </td></tr>\n",
       "\t<tr><td>COMPOUND_555_3106a1_0777795                                                                                                                   </td><td>hilic                                                                                                                                         </td><td>neg                                                                                                                                           </td><td>555.3106                                                                                                                                      </td><td>555.3106                                                                                                                                      </td><td>555.3106                                                                                                                                      </td><td>1.0777795                                                                                                                                     </td><td>1.0777795                                                                                                                                     </td><td>1.0777795                                                                                                                                     </td><td> 16589.5                                                                                                                                      </td><td>COMPOUND_555_3106a1_0777795                                                                                                                   </td><td>COMPOUND_555_3106a1_0777795                                                                                                                   </td><td>1                                                                                                                                             </td></tr>\n",
       "\t<tr><td>COMPOUND_179_0585a0_980333                                                                                                                    </td><td>hilic                                                                                                                                         </td><td>neg                                                                                                                                           </td><td>179.0585                                                                                                                                      </td><td>179.0585                                                                                                                                      </td><td>179.0585                                                                                                                                      </td><td>0.9803330                                                                                                                                     </td><td>0.9803330                                                                                                                                     </td><td>0.9803330                                                                                                                                     </td><td>345901.5                                                                                                                                      </td><td>Cluster_COMPOUND_179_0585a0_980333                                                                                                            </td><td>COMPOUND_179_0585a0_980333;COMPOUND_215_0349a0_9814668                                                                                        </td><td>2                                                                                                                                             </td></tr>\n",
       "\t<tr><td>COMPOUND_565_3384a1_0822716                                                                                                                   </td><td>hilic                                                                                                                                         </td><td>neg                                                                                                                                           </td><td>565.3384                                                                                                                                      </td><td>565.3384                                                                                                                                      </td><td>565.3384                                                                                                                                      </td><td>1.0822716                                                                                                                                     </td><td>1.0822716                                                                                                                                     </td><td>1.0822716                                                                                                                                     </td><td> 79907.0                                                                                                                                      </td><td>COMPOUND_565_3384a1_0822716                                                                                                                   </td><td>COMPOUND_565_3384a1_0822716                                                                                                                   </td><td>1                                                                                                                                             </td></tr>\n",
       "\t<tr><td>COMPOUND_90_032a1_3770405                                                                                                                     </td><td>hilic                                                                                                                                         </td><td>neg                                                                                                                                           </td><td> 90.0320                                                                                                                                      </td><td> 90.0320                                                                                                                                      </td><td> 90.0320                                                                                                                                      </td><td>1.3770405                                                                                                                                     </td><td>1.3770405                                                                                                                                     </td><td>1.3770405                                                                                                                                     </td><td>120834.0                                                                                                                                      </td><td>COMPOUND_90_032a1_3770405                                                                                                                     </td><td>COMPOUND_90_032a1_3770405                                                                                                                     </td><td>1                                                                                                                                             </td></tr>\n",
       "\t<tr><td>COMPOUND_118_0628a0_7650406                                                                                                                   </td><td>hilic                                                                                                                                         </td><td>neg                                                                                                                                           </td><td>118.0628                                                                                                                                      </td><td>118.0628                                                                                                                                      </td><td>118.0628                                                                                                                                      </td><td>0.7650406                                                                                                                                     </td><td>0.7650406                                                                                                                                     </td><td>0.7650406                                                                                                                                     </td><td>153554.5                                                                                                                                      </td><td>COMPOUND_118_0628a0_7650406                                                                                                                   </td><td>COMPOUND_118_0628a0_7650406                                                                                                                   </td><td>1                                                                                                                                             </td></tr>\n",
       "\t<tr><td>COMPOUND_558_4648a0_42406148                                                                                                                  </td><td>hilic                                                                                                                                         </td><td>neg                                                                                                                                           </td><td>558.4648                                                                                                                                      </td><td>558.4648                                                                                                                                      </td><td>558.4648                                                                                                                                      </td><td>0.4240615                                                                                                                                     </td><td>0.4240615                                                                                                                                     </td><td>0.4240615                                                                                                                                     </td><td>154766.5                                                                                                                                      </td><td>Cluster_COMPOUND_558_4648a0_42406148                                                                                                          </td><td>COMPOUND_278_2246a0_42523193;COMPOUND_528_418a0_42738697;COMPOUND_530_434a0_42711142;COMPOUND_556_4505a0_42484784;COMPOUND_558_4648a0_42406148</td><td>5                                                                                                                                             </td></tr>\n",
       "</tbody>\n",
       "</table>\n"
      ],
      "text/latex": [
       "\\begin{tabular}{r|lllllllllllll}\n",
       " Name & column & mode & mz & mzmin & mzmax & rt & rtmin & rtmax & MPA & Cluster\\_ID & Cluster\\_features & Cluster\\_size\\\\\n",
       "\\hline\n",
       "\t COMPOUND\\_174\\_1115a6\\_947448                                                                                                                     & hilic                                                                                                                                                & neg                                                                                                                                                  & 174.1115                                                                                                                                             & 174.1115                                                                                                                                             & 174.1115                                                                                                                                             & 6.9474480                                                                                                                                            & 6.9474480                                                                                                                                            & 6.9474480                                                                                                                                            &  15587.0                                                                                                                                             & COMPOUND\\_174\\_1115a6\\_947448                                                                                                                     & COMPOUND\\_174\\_1115a6\\_947448                                                                                                                     & 1                                                                                                                                                   \\\\\n",
       "\t COMPOUND\\_175\\_0955a6\\_3451543                                                                                                                    & hilic                                                                                                                                                & neg                                                                                                                                                  & 175.0955                                                                                                                                             & 175.0955                                                                                                                                             & 175.0955                                                                                                                                             & 6.3451543                                                                                                                                            & 6.3451543                                                                                                                                            & 6.3451543                                                                                                                                            &  18601.5                                                                                                                                             & COMPOUND\\_175\\_0955a6\\_3451543                                                                                                                    & COMPOUND\\_175\\_0955a6\\_3451543                                                                                                                    & 1                                                                                                                                                   \\\\\n",
       "\t COMPOUND\\_527\\_3258a1\\_2846748                                                                                                                    & hilic                                                                                                                                                & neg                                                                                                                                                  & 527.3258                                                                                                                                             & 527.3258                                                                                                                                             & 527.3258                                                                                                                                             & 1.2846748                                                                                                                                            & 1.2846748                                                                                                                                            & 1.2846748                                                                                                                                            &      1.0                                                                                                                                             & COMPOUND\\_527\\_3258a1\\_2846748                                                                                                                    & COMPOUND\\_527\\_3258a1\\_2846748                                                                                                                    & 1                                                                                                                                                   \\\\\n",
       "\t COMPOUND\\_565\\_3398a1\\_2073423                                                                                                                    & hilic                                                                                                                                                & neg                                                                                                                                                  & 565.3398                                                                                                                                             & 565.3398                                                                                                                                             & 565.3398                                                                                                                                             & 1.2073423                                                                                                                                            & 1.2073423                                                                                                                                            & 1.2073423                                                                                                                                            & 307065.0                                                                                                                                             & COMPOUND\\_565\\_3398a1\\_2073423                                                                                                                    & COMPOUND\\_565\\_3398a1\\_2073423                                                                                                                    & 1                                                                                                                                                   \\\\\n",
       "\t COMPOUND\\_555\\_3106a1\\_0777795                                                                                                                    & hilic                                                                                                                                                & neg                                                                                                                                                  & 555.3106                                                                                                                                             & 555.3106                                                                                                                                             & 555.3106                                                                                                                                             & 1.0777795                                                                                                                                            & 1.0777795                                                                                                                                            & 1.0777795                                                                                                                                            &  16589.5                                                                                                                                             & COMPOUND\\_555\\_3106a1\\_0777795                                                                                                                    & COMPOUND\\_555\\_3106a1\\_0777795                                                                                                                    & 1                                                                                                                                                   \\\\\n",
       "\t COMPOUND\\_179\\_0585a0\\_980333                                                                                                                           & hilic                                                                                                                                                      & neg                                                                                                                                                        & 179.0585                                                                                                                                                   & 179.0585                                                                                                                                                   & 179.0585                                                                                                                                                   & 0.9803330                                                                                                                                                  & 0.9803330                                                                                                                                                  & 0.9803330                                                                                                                                                  & 345901.5                                                                                                                                                   & Cluster\\_COMPOUND\\_179\\_0585a0\\_980333                                                                                                                 & COMPOUND\\_179\\_0585a0\\_980333;COMPOUND\\_215\\_0349a0\\_9814668                                                                                         & 2                                                                                                                                                         \\\\\n",
       "\t COMPOUND\\_565\\_3384a1\\_0822716                                                                                                                    & hilic                                                                                                                                                & neg                                                                                                                                                  & 565.3384                                                                                                                                             & 565.3384                                                                                                                                             & 565.3384                                                                                                                                             & 1.0822716                                                                                                                                            & 1.0822716                                                                                                                                            & 1.0822716                                                                                                                                            &  79907.0                                                                                                                                             & COMPOUND\\_565\\_3384a1\\_0822716                                                                                                                    & COMPOUND\\_565\\_3384a1\\_0822716                                                                                                                    & 1                                                                                                                                                   \\\\\n",
       "\t COMPOUND\\_90\\_032a1\\_3770405                                                                                                                      & hilic                                                                                                                                                & neg                                                                                                                                                  &  90.0320                                                                                                                                             &  90.0320                                                                                                                                             &  90.0320                                                                                                                                             & 1.3770405                                                                                                                                            & 1.3770405                                                                                                                                            & 1.3770405                                                                                                                                            & 120834.0                                                                                                                                             & COMPOUND\\_90\\_032a1\\_3770405                                                                                                                      & COMPOUND\\_90\\_032a1\\_3770405                                                                                                                      & 1                                                                                                                                                   \\\\\n",
       "\t COMPOUND\\_118\\_0628a0\\_7650406                                                                                                                    & hilic                                                                                                                                                & neg                                                                                                                                                  & 118.0628                                                                                                                                             & 118.0628                                                                                                                                             & 118.0628                                                                                                                                             & 0.7650406                                                                                                                                            & 0.7650406                                                                                                                                            & 0.7650406                                                                                                                                            & 153554.5                                                                                                                                             & COMPOUND\\_118\\_0628a0\\_7650406                                                                                                                    & COMPOUND\\_118\\_0628a0\\_7650406                                                                                                                    & 1                                                                                                                                                   \\\\\n",
       "\t COMPOUND\\_558\\_4648a0\\_42406148                                                                                                                                           & hilic                                                                                                                                                                        & neg                                                                                                                                                                          & 558.4648                                                                                                                                                                     & 558.4648                                                                                                                                                                     & 558.4648                                                                                                                                                                     & 0.4240615                                                                                                                                                                    & 0.4240615                                                                                                                                                                    & 0.4240615                                                                                                                                                                    & 154766.5                                                                                                                                                                     & Cluster\\_COMPOUND\\_558\\_4648a0\\_42406148                                                                                                                                 & COMPOUND\\_278\\_2246a0\\_42523193;COMPOUND\\_528\\_418a0\\_42738697;COMPOUND\\_530\\_434a0\\_42711142;COMPOUND\\_556\\_4505a0\\_42484784;COMPOUND\\_558\\_4648a0\\_42406148 & 5                                                                                                                                                                           \\\\\n",
       "\\end{tabular}\n"
      ],
      "text/markdown": [
       "\n",
       "Name | column | mode | mz | mzmin | mzmax | rt | rtmin | rtmax | MPA | Cluster_ID | Cluster_features | Cluster_size | \n",
       "|---|---|---|---|---|---|---|---|---|---|\n",
       "| COMPOUND_174_1115a6_947448                                                                                                                     | hilic                                                                                                                                          | neg                                                                                                                                            | 174.1115                                                                                                                                       | 174.1115                                                                                                                                       | 174.1115                                                                                                                                       | 6.9474480                                                                                                                                      | 6.9474480                                                                                                                                      | 6.9474480                                                                                                                                      |  15587.0                                                                                                                                       | COMPOUND_174_1115a6_947448                                                                                                                     | COMPOUND_174_1115a6_947448                                                                                                                     | 1                                                                                                                                              | \n",
       "| COMPOUND_175_0955a6_3451543                                                                                                                    | hilic                                                                                                                                          | neg                                                                                                                                            | 175.0955                                                                                                                                       | 175.0955                                                                                                                                       | 175.0955                                                                                                                                       | 6.3451543                                                                                                                                      | 6.3451543                                                                                                                                      | 6.3451543                                                                                                                                      |  18601.5                                                                                                                                       | COMPOUND_175_0955a6_3451543                                                                                                                    | COMPOUND_175_0955a6_3451543                                                                                                                    | 1                                                                                                                                              | \n",
       "| COMPOUND_527_3258a1_2846748                                                                                                                    | hilic                                                                                                                                          | neg                                                                                                                                            | 527.3258                                                                                                                                       | 527.3258                                                                                                                                       | 527.3258                                                                                                                                       | 1.2846748                                                                                                                                      | 1.2846748                                                                                                                                      | 1.2846748                                                                                                                                      |      1.0                                                                                                                                       | COMPOUND_527_3258a1_2846748                                                                                                                    | COMPOUND_527_3258a1_2846748                                                                                                                    | 1                                                                                                                                              | \n",
       "| COMPOUND_565_3398a1_2073423                                                                                                                    | hilic                                                                                                                                          | neg                                                                                                                                            | 565.3398                                                                                                                                       | 565.3398                                                                                                                                       | 565.3398                                                                                                                                       | 1.2073423                                                                                                                                      | 1.2073423                                                                                                                                      | 1.2073423                                                                                                                                      | 307065.0                                                                                                                                       | COMPOUND_565_3398a1_2073423                                                                                                                    | COMPOUND_565_3398a1_2073423                                                                                                                    | 1                                                                                                                                              | \n",
       "| COMPOUND_555_3106a1_0777795                                                                                                                    | hilic                                                                                                                                          | neg                                                                                                                                            | 555.3106                                                                                                                                       | 555.3106                                                                                                                                       | 555.3106                                                                                                                                       | 1.0777795                                                                                                                                      | 1.0777795                                                                                                                                      | 1.0777795                                                                                                                                      |  16589.5                                                                                                                                       | COMPOUND_555_3106a1_0777795                                                                                                                    | COMPOUND_555_3106a1_0777795                                                                                                                    | 1                                                                                                                                              | \n",
       "| COMPOUND_179_0585a0_980333                                                                                                                     | hilic                                                                                                                                          | neg                                                                                                                                            | 179.0585                                                                                                                                       | 179.0585                                                                                                                                       | 179.0585                                                                                                                                       | 0.9803330                                                                                                                                      | 0.9803330                                                                                                                                      | 0.9803330                                                                                                                                      | 345901.5                                                                                                                                       | Cluster_COMPOUND_179_0585a0_980333                                                                                                             | COMPOUND_179_0585a0_980333;COMPOUND_215_0349a0_9814668                                                                                         | 2                                                                                                                                              | \n",
       "| COMPOUND_565_3384a1_0822716                                                                                                                    | hilic                                                                                                                                          | neg                                                                                                                                            | 565.3384                                                                                                                                       | 565.3384                                                                                                                                       | 565.3384                                                                                                                                       | 1.0822716                                                                                                                                      | 1.0822716                                                                                                                                      | 1.0822716                                                                                                                                      |  79907.0                                                                                                                                       | COMPOUND_565_3384a1_0822716                                                                                                                    | COMPOUND_565_3384a1_0822716                                                                                                                    | 1                                                                                                                                              | \n",
       "| COMPOUND_90_032a1_3770405                                                                                                                      | hilic                                                                                                                                          | neg                                                                                                                                            |  90.0320                                                                                                                                       |  90.0320                                                                                                                                       |  90.0320                                                                                                                                       | 1.3770405                                                                                                                                      | 1.3770405                                                                                                                                      | 1.3770405                                                                                                                                      | 120834.0                                                                                                                                       | COMPOUND_90_032a1_3770405                                                                                                                      | COMPOUND_90_032a1_3770405                                                                                                                      | 1                                                                                                                                              | \n",
       "| COMPOUND_118_0628a0_7650406                                                                                                                    | hilic                                                                                                                                          | neg                                                                                                                                            | 118.0628                                                                                                                                       | 118.0628                                                                                                                                       | 118.0628                                                                                                                                       | 0.7650406                                                                                                                                      | 0.7650406                                                                                                                                      | 0.7650406                                                                                                                                      | 153554.5                                                                                                                                       | COMPOUND_118_0628a0_7650406                                                                                                                    | COMPOUND_118_0628a0_7650406                                                                                                                    | 1                                                                                                                                              | \n",
       "| COMPOUND_558_4648a0_42406148                                                                                                                   | hilic                                                                                                                                          | neg                                                                                                                                            | 558.4648                                                                                                                                       | 558.4648                                                                                                                                       | 558.4648                                                                                                                                       | 0.4240615                                                                                                                                      | 0.4240615                                                                                                                                      | 0.4240615                                                                                                                                      | 154766.5                                                                                                                                       | Cluster_COMPOUND_558_4648a0_42406148                                                                                                           | COMPOUND_278_2246a0_42523193;COMPOUND_528_418a0_42738697;COMPOUND_530_434a0_42711142;COMPOUND_556_4505a0_42484784;COMPOUND_558_4648a0_42406148 | 5                                                                                                                                              | \n",
       "\n",
       "\n"
      ],
      "text/plain": [
       "   Name                         column mode mz       mzmin    mzmax   \n",
       "1  COMPOUND_174_1115a6_947448   hilic  neg  174.1115 174.1115 174.1115\n",
       "2  COMPOUND_175_0955a6_3451543  hilic  neg  175.0955 175.0955 175.0955\n",
       "3  COMPOUND_527_3258a1_2846748  hilic  neg  527.3258 527.3258 527.3258\n",
       "4  COMPOUND_565_3398a1_2073423  hilic  neg  565.3398 565.3398 565.3398\n",
       "5  COMPOUND_555_3106a1_0777795  hilic  neg  555.3106 555.3106 555.3106\n",
       "6  COMPOUND_179_0585a0_980333   hilic  neg  179.0585 179.0585 179.0585\n",
       "7  COMPOUND_565_3384a1_0822716  hilic  neg  565.3384 565.3384 565.3384\n",
       "8  COMPOUND_90_032a1_3770405    hilic  neg   90.0320  90.0320  90.0320\n",
       "9  COMPOUND_118_0628a0_7650406  hilic  neg  118.0628 118.0628 118.0628\n",
       "10 COMPOUND_558_4648a0_42406148 hilic  neg  558.4648 558.4648 558.4648\n",
       "   rt        rtmin     rtmax     MPA      Cluster_ID                          \n",
       "1  6.9474480 6.9474480 6.9474480  15587.0 COMPOUND_174_1115a6_947448          \n",
       "2  6.3451543 6.3451543 6.3451543  18601.5 COMPOUND_175_0955a6_3451543         \n",
       "3  1.2846748 1.2846748 1.2846748      1.0 COMPOUND_527_3258a1_2846748         \n",
       "4  1.2073423 1.2073423 1.2073423 307065.0 COMPOUND_565_3398a1_2073423         \n",
       "5  1.0777795 1.0777795 1.0777795  16589.5 COMPOUND_555_3106a1_0777795         \n",
       "6  0.9803330 0.9803330 0.9803330 345901.5 Cluster_COMPOUND_179_0585a0_980333  \n",
       "7  1.0822716 1.0822716 1.0822716  79907.0 COMPOUND_565_3384a1_0822716         \n",
       "8  1.3770405 1.3770405 1.3770405 120834.0 COMPOUND_90_032a1_3770405           \n",
       "9  0.7650406 0.7650406 0.7650406 153554.5 COMPOUND_118_0628a0_7650406         \n",
       "10 0.4240615 0.4240615 0.4240615 154766.5 Cluster_COMPOUND_558_4648a0_42406148\n",
       "   Cluster_features                                                                                                                              \n",
       "1  COMPOUND_174_1115a6_947448                                                                                                                    \n",
       "2  COMPOUND_175_0955a6_3451543                                                                                                                   \n",
       "3  COMPOUND_527_3258a1_2846748                                                                                                                   \n",
       "4  COMPOUND_565_3398a1_2073423                                                                                                                   \n",
       "5  COMPOUND_555_3106a1_0777795                                                                                                                   \n",
       "6  COMPOUND_179_0585a0_980333;COMPOUND_215_0349a0_9814668                                                                                        \n",
       "7  COMPOUND_565_3384a1_0822716                                                                                                                   \n",
       "8  COMPOUND_90_032a1_3770405                                                                                                                     \n",
       "9  COMPOUND_118_0628a0_7650406                                                                                                                   \n",
       "10 COMPOUND_278_2246a0_42523193;COMPOUND_528_418a0_42738697;COMPOUND_530_434a0_42711142;COMPOUND_556_4505a0_42484784;COMPOUND_558_4648a0_42406148\n",
       "   Cluster_size\n",
       "1  1           \n",
       "2  1           \n",
       "3  1           \n",
       "4  1           \n",
       "5  1           \n",
       "6  2           \n",
       "7  1           \n",
       "8  1           \n",
       "9  1           \n",
       "10 5           "
      ]
     },
     "metadata": {},
     "output_type": "display_data"
    }
   ],
   "source": [
    "feature_info_clustered <- assign_cluster_id(data = abundances, clusters = clusters, features = feature_info, name_col = \"Name\")\n",
    "\n",
    "head(feature_info_clustered, 10)"
   ]
  },
  {
   "cell_type": "markdown",
   "metadata": {},
   "source": [
    "Note that the above function _does not remove any features_ but simple labels features in the same cluster with the same cluster ID. It is also possible to only keep one feature per cluster (the feature with the largest median peak area):"
   ]
  },
  {
   "cell_type": "code",
   "execution_count": 10,
   "metadata": {},
   "outputs": [
    {
     "name": "stdout",
     "output_type": "stream",
     "text": [
      "Abundances: 276 rows and 430 columns"
     ]
    },
    {
     "data": {
      "text/html": [
       "<table>\n",
       "<thead><tr><th scope=col>COMPOUND_174_1115a6_947448</th><th scope=col>COMPOUND_175_0955a6_3451543</th><th scope=col>COMPOUND_527_3258a1_2846748</th><th scope=col>COMPOUND_565_3398a1_2073423</th></tr></thead>\n",
       "<tbody>\n",
       "\t<tr><td>12982 </td><td>    1 </td><td>12556 </td><td>286969</td></tr>\n",
       "\t<tr><td>18192 </td><td>19866 </td><td>24016 </td><td>594251</td></tr>\n",
       "\t<tr><td>14317 </td><td>19033 </td><td>    1 </td><td>197562</td></tr>\n",
       "\t<tr><td>24180 </td><td>30353 </td><td>    1 </td><td>284768</td></tr>\n",
       "\t<tr><td>15218 </td><td>21622 </td><td>    1 </td><td>661544</td></tr>\n",
       "\t<tr><td>15539 </td><td>10267 </td><td>11466 </td><td>238440</td></tr>\n",
       "\t<tr><td>18608 </td><td>18156 </td><td>13102 </td><td>350136</td></tr>\n",
       "\t<tr><td>12379 </td><td>29315 </td><td>    1 </td><td>218183</td></tr>\n",
       "\t<tr><td>14054 </td><td>24522 </td><td>12189 </td><td>378187</td></tr>\n",
       "\t<tr><td>12316 </td><td>15498 </td><td>17065 </td><td>297489</td></tr>\n",
       "</tbody>\n",
       "</table>\n"
      ],
      "text/latex": [
       "\\begin{tabular}{r|llll}\n",
       " COMPOUND\\_174\\_1115a6\\_947448 & COMPOUND\\_175\\_0955a6\\_3451543 & COMPOUND\\_527\\_3258a1\\_2846748 & COMPOUND\\_565\\_3398a1\\_2073423\\\\\n",
       "\\hline\n",
       "\t 12982  &     1  & 12556  & 286969\\\\\n",
       "\t 18192  & 19866  & 24016  & 594251\\\\\n",
       "\t 14317  & 19033  &     1  & 197562\\\\\n",
       "\t 24180  & 30353  &     1  & 284768\\\\\n",
       "\t 15218  & 21622  &     1  & 661544\\\\\n",
       "\t 15539  & 10267  & 11466  & 238440\\\\\n",
       "\t 18608  & 18156  & 13102  & 350136\\\\\n",
       "\t 12379  & 29315  &     1  & 218183\\\\\n",
       "\t 14054  & 24522  & 12189  & 378187\\\\\n",
       "\t 12316  & 15498  & 17065  & 297489\\\\\n",
       "\\end{tabular}\n"
      ],
      "text/markdown": [
       "\n",
       "COMPOUND_174_1115a6_947448 | COMPOUND_175_0955a6_3451543 | COMPOUND_527_3258a1_2846748 | COMPOUND_565_3398a1_2073423 | \n",
       "|---|---|---|---|---|---|---|---|---|---|\n",
       "| 12982  |     1  | 12556  | 286969 | \n",
       "| 18192  | 19866  | 24016  | 594251 | \n",
       "| 14317  | 19033  |     1  | 197562 | \n",
       "| 24180  | 30353  |     1  | 284768 | \n",
       "| 15218  | 21622  |     1  | 661544 | \n",
       "| 15539  | 10267  | 11466  | 238440 | \n",
       "| 18608  | 18156  | 13102  | 350136 | \n",
       "| 12379  | 29315  |     1  | 218183 | \n",
       "| 14054  | 24522  | 12189  | 378187 | \n",
       "| 12316  | 15498  | 17065  | 297489 | \n",
       "\n",
       "\n"
      ],
      "text/plain": [
       "   COMPOUND_174_1115a6_947448 COMPOUND_175_0955a6_3451543\n",
       "1  12982                          1                      \n",
       "2  18192                      19866                      \n",
       "3  14317                      19033                      \n",
       "4  24180                      30353                      \n",
       "5  15218                      21622                      \n",
       "6  15539                      10267                      \n",
       "7  18608                      18156                      \n",
       "8  12379                      29315                      \n",
       "9  14054                      24522                      \n",
       "10 12316                      15498                      \n",
       "   COMPOUND_527_3258a1_2846748 COMPOUND_565_3398a1_2073423\n",
       "1  12556                       286969                     \n",
       "2  24016                       594251                     \n",
       "3      1                       197562                     \n",
       "4      1                       284768                     \n",
       "5      1                       661544                     \n",
       "6  11466                       238440                     \n",
       "7  13102                       350136                     \n",
       "8      1                       218183                     \n",
       "9  12189                       378187                     \n",
       "10 17065                       297489                     "
      ]
     },
     "metadata": {},
     "output_type": "display_data"
    },
    {
     "name": "stdout",
     "output_type": "stream",
     "text": [
      "Feature info: 430 rows and 13 columns"
     ]
    },
    {
     "data": {
      "text/html": [
       "<table>\n",
       "<thead><tr><th scope=col>Name</th><th scope=col>column</th><th scope=col>mode</th><th scope=col>mz</th><th scope=col>mzmin</th><th scope=col>mzmax</th><th scope=col>rt</th><th scope=col>rtmin</th><th scope=col>rtmax</th><th scope=col>MPA</th><th scope=col>Cluster_ID</th><th scope=col>Cluster_features</th><th scope=col>Cluster_size</th></tr></thead>\n",
       "<tbody>\n",
       "\t<tr><td>COMPOUND_174_1115a6_947448                                                                                                                    </td><td>hilic                                                                                                                                         </td><td>neg                                                                                                                                           </td><td>174.1115                                                                                                                                      </td><td>174.1115                                                                                                                                      </td><td>174.1115                                                                                                                                      </td><td>6.9474480                                                                                                                                     </td><td>6.9474480                                                                                                                                     </td><td>6.9474480                                                                                                                                     </td><td> 15587.0                                                                                                                                      </td><td>COMPOUND_174_1115a6_947448                                                                                                                    </td><td>COMPOUND_174_1115a6_947448                                                                                                                    </td><td>1                                                                                                                                             </td></tr>\n",
       "\t<tr><td>COMPOUND_175_0955a6_3451543                                                                                                                   </td><td>hilic                                                                                                                                         </td><td>neg                                                                                                                                           </td><td>175.0955                                                                                                                                      </td><td>175.0955                                                                                                                                      </td><td>175.0955                                                                                                                                      </td><td>6.3451543                                                                                                                                     </td><td>6.3451543                                                                                                                                     </td><td>6.3451543                                                                                                                                     </td><td> 18601.5                                                                                                                                      </td><td>COMPOUND_175_0955a6_3451543                                                                                                                   </td><td>COMPOUND_175_0955a6_3451543                                                                                                                   </td><td>1                                                                                                                                             </td></tr>\n",
       "\t<tr><td>COMPOUND_527_3258a1_2846748                                                                                                                   </td><td>hilic                                                                                                                                         </td><td>neg                                                                                                                                           </td><td>527.3258                                                                                                                                      </td><td>527.3258                                                                                                                                      </td><td>527.3258                                                                                                                                      </td><td>1.2846748                                                                                                                                     </td><td>1.2846748                                                                                                                                     </td><td>1.2846748                                                                                                                                     </td><td>     1.0                                                                                                                                      </td><td>COMPOUND_527_3258a1_2846748                                                                                                                   </td><td>COMPOUND_527_3258a1_2846748                                                                                                                   </td><td>1                                                                                                                                             </td></tr>\n",
       "\t<tr><td>COMPOUND_565_3398a1_2073423                                                                                                                   </td><td>hilic                                                                                                                                         </td><td>neg                                                                                                                                           </td><td>565.3398                                                                                                                                      </td><td>565.3398                                                                                                                                      </td><td>565.3398                                                                                                                                      </td><td>1.2073423                                                                                                                                     </td><td>1.2073423                                                                                                                                     </td><td>1.2073423                                                                                                                                     </td><td>307065.0                                                                                                                                      </td><td>COMPOUND_565_3398a1_2073423                                                                                                                   </td><td>COMPOUND_565_3398a1_2073423                                                                                                                   </td><td>1                                                                                                                                             </td></tr>\n",
       "\t<tr><td>COMPOUND_555_3106a1_0777795                                                                                                                   </td><td>hilic                                                                                                                                         </td><td>neg                                                                                                                                           </td><td>555.3106                                                                                                                                      </td><td>555.3106                                                                                                                                      </td><td>555.3106                                                                                                                                      </td><td>1.0777795                                                                                                                                     </td><td>1.0777795                                                                                                                                     </td><td>1.0777795                                                                                                                                     </td><td> 16589.5                                                                                                                                      </td><td>COMPOUND_555_3106a1_0777795                                                                                                                   </td><td>COMPOUND_555_3106a1_0777795                                                                                                                   </td><td>1                                                                                                                                             </td></tr>\n",
       "\t<tr><td>COMPOUND_179_0585a0_980333                                                                                                                    </td><td>hilic                                                                                                                                         </td><td>neg                                                                                                                                           </td><td>179.0585                                                                                                                                      </td><td>179.0585                                                                                                                                      </td><td>179.0585                                                                                                                                      </td><td>0.9803330                                                                                                                                     </td><td>0.9803330                                                                                                                                     </td><td>0.9803330                                                                                                                                     </td><td>345901.5                                                                                                                                      </td><td>Cluster_COMPOUND_179_0585a0_980333                                                                                                            </td><td>COMPOUND_179_0585a0_980333;COMPOUND_215_0349a0_9814668                                                                                        </td><td>2                                                                                                                                             </td></tr>\n",
       "\t<tr><td>COMPOUND_565_3384a1_0822716                                                                                                                   </td><td>hilic                                                                                                                                         </td><td>neg                                                                                                                                           </td><td>565.3384                                                                                                                                      </td><td>565.3384                                                                                                                                      </td><td>565.3384                                                                                                                                      </td><td>1.0822716                                                                                                                                     </td><td>1.0822716                                                                                                                                     </td><td>1.0822716                                                                                                                                     </td><td> 79907.0                                                                                                                                      </td><td>COMPOUND_565_3384a1_0822716                                                                                                                   </td><td>COMPOUND_565_3384a1_0822716                                                                                                                   </td><td>1                                                                                                                                             </td></tr>\n",
       "\t<tr><td>COMPOUND_90_032a1_3770405                                                                                                                     </td><td>hilic                                                                                                                                         </td><td>neg                                                                                                                                           </td><td> 90.0320                                                                                                                                      </td><td> 90.0320                                                                                                                                      </td><td> 90.0320                                                                                                                                      </td><td>1.3770405                                                                                                                                     </td><td>1.3770405                                                                                                                                     </td><td>1.3770405                                                                                                                                     </td><td>120834.0                                                                                                                                      </td><td>COMPOUND_90_032a1_3770405                                                                                                                     </td><td>COMPOUND_90_032a1_3770405                                                                                                                     </td><td>1                                                                                                                                             </td></tr>\n",
       "\t<tr><td>COMPOUND_118_0628a0_7650406                                                                                                                   </td><td>hilic                                                                                                                                         </td><td>neg                                                                                                                                           </td><td>118.0628                                                                                                                                      </td><td>118.0628                                                                                                                                      </td><td>118.0628                                                                                                                                      </td><td>0.7650406                                                                                                                                     </td><td>0.7650406                                                                                                                                     </td><td>0.7650406                                                                                                                                     </td><td>153554.5                                                                                                                                      </td><td>COMPOUND_118_0628a0_7650406                                                                                                                   </td><td>COMPOUND_118_0628a0_7650406                                                                                                                   </td><td>1                                                                                                                                             </td></tr>\n",
       "\t<tr><td>COMPOUND_558_4648a0_42406148                                                                                                                  </td><td>hilic                                                                                                                                         </td><td>neg                                                                                                                                           </td><td>558.4648                                                                                                                                      </td><td>558.4648                                                                                                                                      </td><td>558.4648                                                                                                                                      </td><td>0.4240615                                                                                                                                     </td><td>0.4240615                                                                                                                                     </td><td>0.4240615                                                                                                                                     </td><td>154766.5                                                                                                                                      </td><td>Cluster_COMPOUND_558_4648a0_42406148                                                                                                          </td><td>COMPOUND_278_2246a0_42523193;COMPOUND_528_418a0_42738697;COMPOUND_530_434a0_42711142;COMPOUND_556_4505a0_42484784;COMPOUND_558_4648a0_42406148</td><td>5                                                                                                                                             </td></tr>\n",
       "</tbody>\n",
       "</table>\n"
      ],
      "text/latex": [
       "\\begin{tabular}{r|lllllllllllll}\n",
       " Name & column & mode & mz & mzmin & mzmax & rt & rtmin & rtmax & MPA & Cluster\\_ID & Cluster\\_features & Cluster\\_size\\\\\n",
       "\\hline\n",
       "\t COMPOUND\\_174\\_1115a6\\_947448                                                                                                                     & hilic                                                                                                                                                & neg                                                                                                                                                  & 174.1115                                                                                                                                             & 174.1115                                                                                                                                             & 174.1115                                                                                                                                             & 6.9474480                                                                                                                                            & 6.9474480                                                                                                                                            & 6.9474480                                                                                                                                            &  15587.0                                                                                                                                             & COMPOUND\\_174\\_1115a6\\_947448                                                                                                                     & COMPOUND\\_174\\_1115a6\\_947448                                                                                                                     & 1                                                                                                                                                   \\\\\n",
       "\t COMPOUND\\_175\\_0955a6\\_3451543                                                                                                                    & hilic                                                                                                                                                & neg                                                                                                                                                  & 175.0955                                                                                                                                             & 175.0955                                                                                                                                             & 175.0955                                                                                                                                             & 6.3451543                                                                                                                                            & 6.3451543                                                                                                                                            & 6.3451543                                                                                                                                            &  18601.5                                                                                                                                             & COMPOUND\\_175\\_0955a6\\_3451543                                                                                                                    & COMPOUND\\_175\\_0955a6\\_3451543                                                                                                                    & 1                                                                                                                                                   \\\\\n",
       "\t COMPOUND\\_527\\_3258a1\\_2846748                                                                                                                    & hilic                                                                                                                                                & neg                                                                                                                                                  & 527.3258                                                                                                                                             & 527.3258                                                                                                                                             & 527.3258                                                                                                                                             & 1.2846748                                                                                                                                            & 1.2846748                                                                                                                                            & 1.2846748                                                                                                                                            &      1.0                                                                                                                                             & COMPOUND\\_527\\_3258a1\\_2846748                                                                                                                    & COMPOUND\\_527\\_3258a1\\_2846748                                                                                                                    & 1                                                                                                                                                   \\\\\n",
       "\t COMPOUND\\_565\\_3398a1\\_2073423                                                                                                                    & hilic                                                                                                                                                & neg                                                                                                                                                  & 565.3398                                                                                                                                             & 565.3398                                                                                                                                             & 565.3398                                                                                                                                             & 1.2073423                                                                                                                                            & 1.2073423                                                                                                                                            & 1.2073423                                                                                                                                            & 307065.0                                                                                                                                             & COMPOUND\\_565\\_3398a1\\_2073423                                                                                                                    & COMPOUND\\_565\\_3398a1\\_2073423                                                                                                                    & 1                                                                                                                                                   \\\\\n",
       "\t COMPOUND\\_555\\_3106a1\\_0777795                                                                                                                    & hilic                                                                                                                                                & neg                                                                                                                                                  & 555.3106                                                                                                                                             & 555.3106                                                                                                                                             & 555.3106                                                                                                                                             & 1.0777795                                                                                                                                            & 1.0777795                                                                                                                                            & 1.0777795                                                                                                                                            &  16589.5                                                                                                                                             & COMPOUND\\_555\\_3106a1\\_0777795                                                                                                                    & COMPOUND\\_555\\_3106a1\\_0777795                                                                                                                    & 1                                                                                                                                                   \\\\\n",
       "\t COMPOUND\\_179\\_0585a0\\_980333                                                                                                                           & hilic                                                                                                                                                      & neg                                                                                                                                                        & 179.0585                                                                                                                                                   & 179.0585                                                                                                                                                   & 179.0585                                                                                                                                                   & 0.9803330                                                                                                                                                  & 0.9803330                                                                                                                                                  & 0.9803330                                                                                                                                                  & 345901.5                                                                                                                                                   & Cluster\\_COMPOUND\\_179\\_0585a0\\_980333                                                                                                                 & COMPOUND\\_179\\_0585a0\\_980333;COMPOUND\\_215\\_0349a0\\_9814668                                                                                         & 2                                                                                                                                                         \\\\\n",
       "\t COMPOUND\\_565\\_3384a1\\_0822716                                                                                                                    & hilic                                                                                                                                                & neg                                                                                                                                                  & 565.3384                                                                                                                                             & 565.3384                                                                                                                                             & 565.3384                                                                                                                                             & 1.0822716                                                                                                                                            & 1.0822716                                                                                                                                            & 1.0822716                                                                                                                                            &  79907.0                                                                                                                                             & COMPOUND\\_565\\_3384a1\\_0822716                                                                                                                    & COMPOUND\\_565\\_3384a1\\_0822716                                                                                                                    & 1                                                                                                                                                   \\\\\n",
       "\t COMPOUND\\_90\\_032a1\\_3770405                                                                                                                      & hilic                                                                                                                                                & neg                                                                                                                                                  &  90.0320                                                                                                                                             &  90.0320                                                                                                                                             &  90.0320                                                                                                                                             & 1.3770405                                                                                                                                            & 1.3770405                                                                                                                                            & 1.3770405                                                                                                                                            & 120834.0                                                                                                                                             & COMPOUND\\_90\\_032a1\\_3770405                                                                                                                      & COMPOUND\\_90\\_032a1\\_3770405                                                                                                                      & 1                                                                                                                                                   \\\\\n",
       "\t COMPOUND\\_118\\_0628a0\\_7650406                                                                                                                    & hilic                                                                                                                                                & neg                                                                                                                                                  & 118.0628                                                                                                                                             & 118.0628                                                                                                                                             & 118.0628                                                                                                                                             & 0.7650406                                                                                                                                            & 0.7650406                                                                                                                                            & 0.7650406                                                                                                                                            & 153554.5                                                                                                                                             & COMPOUND\\_118\\_0628a0\\_7650406                                                                                                                    & COMPOUND\\_118\\_0628a0\\_7650406                                                                                                                    & 1                                                                                                                                                   \\\\\n",
       "\t COMPOUND\\_558\\_4648a0\\_42406148                                                                                                                                           & hilic                                                                                                                                                                        & neg                                                                                                                                                                          & 558.4648                                                                                                                                                                     & 558.4648                                                                                                                                                                     & 558.4648                                                                                                                                                                     & 0.4240615                                                                                                                                                                    & 0.4240615                                                                                                                                                                    & 0.4240615                                                                                                                                                                    & 154766.5                                                                                                                                                                     & Cluster\\_COMPOUND\\_558\\_4648a0\\_42406148                                                                                                                                 & COMPOUND\\_278\\_2246a0\\_42523193;COMPOUND\\_528\\_418a0\\_42738697;COMPOUND\\_530\\_434a0\\_42711142;COMPOUND\\_556\\_4505a0\\_42484784;COMPOUND\\_558\\_4648a0\\_42406148 & 5                                                                                                                                                                           \\\\\n",
       "\\end{tabular}\n"
      ],
      "text/markdown": [
       "\n",
       "Name | column | mode | mz | mzmin | mzmax | rt | rtmin | rtmax | MPA | Cluster_ID | Cluster_features | Cluster_size | \n",
       "|---|---|---|---|---|---|---|---|---|---|\n",
       "| COMPOUND_174_1115a6_947448                                                                                                                     | hilic                                                                                                                                          | neg                                                                                                                                            | 174.1115                                                                                                                                       | 174.1115                                                                                                                                       | 174.1115                                                                                                                                       | 6.9474480                                                                                                                                      | 6.9474480                                                                                                                                      | 6.9474480                                                                                                                                      |  15587.0                                                                                                                                       | COMPOUND_174_1115a6_947448                                                                                                                     | COMPOUND_174_1115a6_947448                                                                                                                     | 1                                                                                                                                              | \n",
       "| COMPOUND_175_0955a6_3451543                                                                                                                    | hilic                                                                                                                                          | neg                                                                                                                                            | 175.0955                                                                                                                                       | 175.0955                                                                                                                                       | 175.0955                                                                                                                                       | 6.3451543                                                                                                                                      | 6.3451543                                                                                                                                      | 6.3451543                                                                                                                                      |  18601.5                                                                                                                                       | COMPOUND_175_0955a6_3451543                                                                                                                    | COMPOUND_175_0955a6_3451543                                                                                                                    | 1                                                                                                                                              | \n",
       "| COMPOUND_527_3258a1_2846748                                                                                                                    | hilic                                                                                                                                          | neg                                                                                                                                            | 527.3258                                                                                                                                       | 527.3258                                                                                                                                       | 527.3258                                                                                                                                       | 1.2846748                                                                                                                                      | 1.2846748                                                                                                                                      | 1.2846748                                                                                                                                      |      1.0                                                                                                                                       | COMPOUND_527_3258a1_2846748                                                                                                                    | COMPOUND_527_3258a1_2846748                                                                                                                    | 1                                                                                                                                              | \n",
       "| COMPOUND_565_3398a1_2073423                                                                                                                    | hilic                                                                                                                                          | neg                                                                                                                                            | 565.3398                                                                                                                                       | 565.3398                                                                                                                                       | 565.3398                                                                                                                                       | 1.2073423                                                                                                                                      | 1.2073423                                                                                                                                      | 1.2073423                                                                                                                                      | 307065.0                                                                                                                                       | COMPOUND_565_3398a1_2073423                                                                                                                    | COMPOUND_565_3398a1_2073423                                                                                                                    | 1                                                                                                                                              | \n",
       "| COMPOUND_555_3106a1_0777795                                                                                                                    | hilic                                                                                                                                          | neg                                                                                                                                            | 555.3106                                                                                                                                       | 555.3106                                                                                                                                       | 555.3106                                                                                                                                       | 1.0777795                                                                                                                                      | 1.0777795                                                                                                                                      | 1.0777795                                                                                                                                      |  16589.5                                                                                                                                       | COMPOUND_555_3106a1_0777795                                                                                                                    | COMPOUND_555_3106a1_0777795                                                                                                                    | 1                                                                                                                                              | \n",
       "| COMPOUND_179_0585a0_980333                                                                                                                     | hilic                                                                                                                                          | neg                                                                                                                                            | 179.0585                                                                                                                                       | 179.0585                                                                                                                                       | 179.0585                                                                                                                                       | 0.9803330                                                                                                                                      | 0.9803330                                                                                                                                      | 0.9803330                                                                                                                                      | 345901.5                                                                                                                                       | Cluster_COMPOUND_179_0585a0_980333                                                                                                             | COMPOUND_179_0585a0_980333;COMPOUND_215_0349a0_9814668                                                                                         | 2                                                                                                                                              | \n",
       "| COMPOUND_565_3384a1_0822716                                                                                                                    | hilic                                                                                                                                          | neg                                                                                                                                            | 565.3384                                                                                                                                       | 565.3384                                                                                                                                       | 565.3384                                                                                                                                       | 1.0822716                                                                                                                                      | 1.0822716                                                                                                                                      | 1.0822716                                                                                                                                      |  79907.0                                                                                                                                       | COMPOUND_565_3384a1_0822716                                                                                                                    | COMPOUND_565_3384a1_0822716                                                                                                                    | 1                                                                                                                                              | \n",
       "| COMPOUND_90_032a1_3770405                                                                                                                      | hilic                                                                                                                                          | neg                                                                                                                                            |  90.0320                                                                                                                                       |  90.0320                                                                                                                                       |  90.0320                                                                                                                                       | 1.3770405                                                                                                                                      | 1.3770405                                                                                                                                      | 1.3770405                                                                                                                                      | 120834.0                                                                                                                                       | COMPOUND_90_032a1_3770405                                                                                                                      | COMPOUND_90_032a1_3770405                                                                                                                      | 1                                                                                                                                              | \n",
       "| COMPOUND_118_0628a0_7650406                                                                                                                    | hilic                                                                                                                                          | neg                                                                                                                                            | 118.0628                                                                                                                                       | 118.0628                                                                                                                                       | 118.0628                                                                                                                                       | 0.7650406                                                                                                                                      | 0.7650406                                                                                                                                      | 0.7650406                                                                                                                                      | 153554.5                                                                                                                                       | COMPOUND_118_0628a0_7650406                                                                                                                    | COMPOUND_118_0628a0_7650406                                                                                                                    | 1                                                                                                                                              | \n",
       "| COMPOUND_558_4648a0_42406148                                                                                                                   | hilic                                                                                                                                          | neg                                                                                                                                            | 558.4648                                                                                                                                       | 558.4648                                                                                                                                       | 558.4648                                                                                                                                       | 0.4240615                                                                                                                                      | 0.4240615                                                                                                                                      | 0.4240615                                                                                                                                      | 154766.5                                                                                                                                       | Cluster_COMPOUND_558_4648a0_42406148                                                                                                           | COMPOUND_278_2246a0_42523193;COMPOUND_528_418a0_42738697;COMPOUND_530_434a0_42711142;COMPOUND_556_4505a0_42484784;COMPOUND_558_4648a0_42406148 | 5                                                                                                                                              | \n",
       "\n",
       "\n"
      ],
      "text/plain": [
       "   Name                         column mode mz       mzmin    mzmax   \n",
       "1  COMPOUND_174_1115a6_947448   hilic  neg  174.1115 174.1115 174.1115\n",
       "2  COMPOUND_175_0955a6_3451543  hilic  neg  175.0955 175.0955 175.0955\n",
       "3  COMPOUND_527_3258a1_2846748  hilic  neg  527.3258 527.3258 527.3258\n",
       "4  COMPOUND_565_3398a1_2073423  hilic  neg  565.3398 565.3398 565.3398\n",
       "5  COMPOUND_555_3106a1_0777795  hilic  neg  555.3106 555.3106 555.3106\n",
       "6  COMPOUND_179_0585a0_980333   hilic  neg  179.0585 179.0585 179.0585\n",
       "7  COMPOUND_565_3384a1_0822716  hilic  neg  565.3384 565.3384 565.3384\n",
       "8  COMPOUND_90_032a1_3770405    hilic  neg   90.0320  90.0320  90.0320\n",
       "9  COMPOUND_118_0628a0_7650406  hilic  neg  118.0628 118.0628 118.0628\n",
       "10 COMPOUND_558_4648a0_42406148 hilic  neg  558.4648 558.4648 558.4648\n",
       "   rt        rtmin     rtmax     MPA      Cluster_ID                          \n",
       "1  6.9474480 6.9474480 6.9474480  15587.0 COMPOUND_174_1115a6_947448          \n",
       "2  6.3451543 6.3451543 6.3451543  18601.5 COMPOUND_175_0955a6_3451543         \n",
       "3  1.2846748 1.2846748 1.2846748      1.0 COMPOUND_527_3258a1_2846748         \n",
       "4  1.2073423 1.2073423 1.2073423 307065.0 COMPOUND_565_3398a1_2073423         \n",
       "5  1.0777795 1.0777795 1.0777795  16589.5 COMPOUND_555_3106a1_0777795         \n",
       "6  0.9803330 0.9803330 0.9803330 345901.5 Cluster_COMPOUND_179_0585a0_980333  \n",
       "7  1.0822716 1.0822716 1.0822716  79907.0 COMPOUND_565_3384a1_0822716         \n",
       "8  1.3770405 1.3770405 1.3770405 120834.0 COMPOUND_90_032a1_3770405           \n",
       "9  0.7650406 0.7650406 0.7650406 153554.5 COMPOUND_118_0628a0_7650406         \n",
       "10 0.4240615 0.4240615 0.4240615 154766.5 Cluster_COMPOUND_558_4648a0_42406148\n",
       "   Cluster_features                                                                                                                              \n",
       "1  COMPOUND_174_1115a6_947448                                                                                                                    \n",
       "2  COMPOUND_175_0955a6_3451543                                                                                                                   \n",
       "3  COMPOUND_527_3258a1_2846748                                                                                                                   \n",
       "4  COMPOUND_565_3398a1_2073423                                                                                                                   \n",
       "5  COMPOUND_555_3106a1_0777795                                                                                                                   \n",
       "6  COMPOUND_179_0585a0_980333;COMPOUND_215_0349a0_9814668                                                                                        \n",
       "7  COMPOUND_565_3384a1_0822716                                                                                                                   \n",
       "8  COMPOUND_90_032a1_3770405                                                                                                                     \n",
       "9  COMPOUND_118_0628a0_7650406                                                                                                                   \n",
       "10 COMPOUND_278_2246a0_42523193;COMPOUND_528_418a0_42738697;COMPOUND_530_434a0_42711142;COMPOUND_556_4505a0_42484784;COMPOUND_558_4648a0_42406148\n",
       "   Cluster_size\n",
       "1  1           \n",
       "2  1           \n",
       "3  1           \n",
       "4  1           \n",
       "5  1           \n",
       "6  2           \n",
       "7  1           \n",
       "8  1           \n",
       "9  1           \n",
       "10 5           "
      ]
     },
     "metadata": {},
     "output_type": "display_data"
    }
   ],
   "source": [
    "pulled <- pull_clusters(data = abundances, features = feature_info_clustered, name_col = \"Name\")\n",
    "cluster_abundances <- pulled$cdata\n",
    "cluster_feature_info <- pulled$cfeatures\n",
    "\n",
    "# Dimensions\n",
    "cat(paste(\"Abundances:\", nrow(cluster_abundances), \"rows and\", ncol(cluster_abundances), \"columns\"))\n",
    "cluster_abundances[1:10, 1:4]\n",
    "\n",
    "cat(paste(\"Feature info:\", nrow(cluster_feature_info), \"rows and\", ncol(cluster_feature_info), \"columns\"))\n",
    "cluster_feature_info[1:10, ]"
   ]
  },
  {
   "cell_type": "markdown",
   "metadata": {},
   "source": [
    "#### Visualization\n",
    "\n",
    "The package offers basic visualizations of each cluster. The visualizations include\n",
    "\n",
    "- A heatmap of the m/z differences between the features\n",
    "- A plot of the median peak area of each feature as a function of the m/z\n",
    "- m/z as a function of retention time, including the retention time window around each feature\n",
    "- A visualization of the graph, with node size proportional to the median peak area of the feature, and color indicating degree (darker blue = larger degree).\n",
    "\n",
    "To visualize the features in each cluster, use:"
   ]
  },
  {
   "cell_type": "code",
   "execution_count": 12,
   "metadata": {},
   "outputs": [],
   "source": [
    "visualize_clusters(data = abundances, features = feature_info_clustered, clusters = clusters, min_size = 3, rt_window = 1/60,\n",
    "                   name_col = \"Name\", mz_col = \"mz\", rt_col = \"rt\",\n",
    "                   file_path = \"figures/\")"
   ]
  }
 ],
 "metadata": {
  "kernelspec": {
   "display_name": "R",
   "language": "R",
   "name": "ir"
  },
  "language_info": {
   "codemirror_mode": "r",
   "file_extension": ".r",
   "mimetype": "text/x-r-source",
   "name": "R",
   "pygments_lexer": "r",
   "version": "3.5.1"
  }
 },
 "nbformat": 4,
 "nbformat_minor": 2
}
